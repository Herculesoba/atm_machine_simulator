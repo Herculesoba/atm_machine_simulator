{
 "cells": [
  {
   "cell_type": "markdown",
   "id": "f6844a3f-44f0-4af0-b028-6b07abe1d7bb",
   "metadata": {},
   "source": [
    "## A. STUDENT GRADE EVALUATOR"
   ]
  },
  {
   "cell_type": "markdown",
   "id": "450eb7b6-3d74-445f-b680-390de985d584",
   "metadata": {},
   "source": [
    "**1.** Creating a **list of student scores**"
   ]
  },
  {
   "cell_type": "code",
   "execution_count": 1,
   "id": "550d45ac-674f-4fed-83f7-807413eaa846",
   "metadata": {},
   "outputs": [],
   "source": [
    "student_scores = [91, 67, 49, 73, 54]"
   ]
  },
  {
   "cell_type": "markdown",
   "id": "7064a36b-dd7e-48e4-8d75-83ab4f3ea689",
   "metadata": {},
   "source": [
    "**2.** Writing a function to **check the grades** for each student score. "
   ]
  },
  {
   "cell_type": "code",
   "execution_count": 2,
   "id": "86bdb565-8dec-41d7-91cd-8d022d04e87c",
   "metadata": {},
   "outputs": [],
   "source": [
    "def grade_student(score): # Function definition\n",
    "    if score >= 80:\n",
    "        return \"A\"\n",
    "    elif score >= 70:\n",
    "        return \"B\"\n",
    "    elif score >= 60:\n",
    "        return \"C\"\n",
    "    elif score >= 50:\n",
    "        return \"D\"\n",
    "    else:\n",
    "        return \"F\""
   ]
  },
  {
   "cell_type": "markdown",
   "id": "8249ceb6-2f01-4fd4-ab2c-3b1eef59820d",
   "metadata": {},
   "source": [
    "**3.** Writing a **loop** to go through all student scores, while **calling the function** for each score "
   ]
  },
  {
   "cell_type": "markdown",
   "id": "ad9329b2-a459-4347-b039-0e124043d13b",
   "metadata": {},
   "source": [
    "**4.** At the same time, print the result using the format **\"Student 1: Score = 85, Grade = A\"**"
   ]
  },
  {
   "cell_type": "code",
   "execution_count": 3,
   "id": "bb6eb955-7fdb-4f1b-aed7-3099b3ee3d8e",
   "metadata": {},
   "outputs": [
    {
     "data": {
      "text/plain": [
       "[(0, 91), (1, 67), (2, 49), (3, 73), (4, 54)]"
      ]
     },
     "execution_count": 3,
     "metadata": {},
     "output_type": "execute_result"
    }
   ],
   "source": [
    "# Get a list-tuple of the index-item pair of the student_scores list, they are both needed for the iteration.\n",
    "student_scores_tup = list(enumerate(student_scores))\n",
    "student_scores_tup"
   ]
  },
  {
   "cell_type": "code",
   "execution_count": 4,
   "id": "46b13c38-999d-46ce-8141-f917e380b423",
   "metadata": {},
   "outputs": [
    {
     "name": "stdout",
     "output_type": "stream",
     "text": [
      "Student 1: Score = 91, Grade = A\n",
      "Student 2: Score = 67, Grade = C\n",
      "Student 3: Score = 49, Grade = F\n",
      "Student 4: Score = 73, Grade = B\n",
      "Student 5: Score = 54, Grade = D\n"
     ]
    }
   ],
   "source": [
    "# Write your loop.\n",
    "for index, score in student_scores_tup:\n",
    "    grade = grade_student(score) # Function call\n",
    "    print(f\"Student {index + 1}: Score = {score}, Grade = {grade}\")"
   ]
  },
  {
   "cell_type": "markdown",
   "id": "2901c26c-4b29-4e33-8375-42edfb4e9a77",
   "metadata": {},
   "source": [
    "## B. ATM SIMULATOR"
   ]
  },
  {
   "cell_type": "markdown",
   "id": "0391220b-b738-483e-8ffb-d8d7e6b3806b",
   "metadata": {},
   "source": [
    "**1.** Define the **atm function**"
   ]
  },
  {
   "cell_type": "code",
   "execution_count": 1,
   "id": "de798e5e-9481-45ca-b839-822e0a5404cf",
   "metadata": {},
   "outputs": [],
   "source": [
    "def atm_machine():\n",
    "    # Step a: An initial value of 1000 is initialized\n",
    "    balance = float(1000) # Typecasting balance to aid use of float data as currency values\n",
    "\n",
    "    # Printing a Simple Welcome Message\n",
    "    print(\"Welcome to the ATM system!\")\n",
    "    print(\"Please insert your card...\")\n",
    "    print(\"\\nCard accepted!\\n\")\n",
    "\n",
    "    # Steps b and c: Run the while loop, add the menu options and make sure the program keeps running till the user enters \"Exit\"\n",
    "    while True:\n",
    "        print(\"\\n==============================================================ATM MENU==============================================================\")\n",
    "        print(\"\\n1 --> Check Balance\")\n",
    "        print(\"2 --> Deposit Money\")\n",
    "        print(\"3 --> Withdraw Money\")\n",
    "        print(\"4 --> Exit\")\n",
    "\n",
    "        # Get the user to enter a choice.\n",
    "        try:\n",
    "            choice = int(input(\"\\nEnter your choice (1-4): \"))\n",
    "        except: # To take into account errors from user input, like maybe Value Errors\n",
    "            print(\"Invalid input! Please enter a valid number.\")\n",
    "            continue\n",
    "\n",
    "        # Step d: Processing the option chosen by the user\n",
    "        if choice == 1: # Check the Balance\n",
    "            print(f\"\\nYour current balance: {balance:.2f} Naira\")\n",
    "\n",
    "        elif choice == 2: # Deposit Money into the account\n",
    "            try:\n",
    "                deposit_amount = float(input(\"\\nEnter amount to be deposited: \"))\n",
    "                # Take into account negative numbers that could be inputed.\n",
    "                if deposit_amount > 0:\n",
    "                    balance += deposit_amount # Adding the new deposit to the original balance\n",
    "                    print(f\"\\nYou have successfully deposited {deposit_amount:.2f} Naira\")\n",
    "                    print(f\"New Balance: {balance:.2f} Naira\")\n",
    "                else:\n",
    "                    print(\"Invalid amount! Please enter a positive number.\")\n",
    "            except:\n",
    "                print(\"Invalid input! Please enter a valid number.\")\n",
    "\n",
    "        elif choice == 3: # Withdraw money from the account\n",
    "            try:\n",
    "                withdrawal_amount = float(input(\"\\nEnter amount to be withdrawn: \"))\n",
    "                if withdrawal_amount > 0:\n",
    "                    # Take into account a case where the amount to be withdrawn exceeds the current balance\n",
    "                    if withdrawal_amount <= balance:\n",
    "                        balance -= withdrawal_amount # Removing the amount from the original balance\n",
    "                        print(f\"\\nYou have successfully withdrawn {withdrawal_amount:.2f} Naira\")\n",
    "                        print(f\"New Balance: {balance:.2f} Naira\")\n",
    "                    else:\n",
    "                        print(\"\\nInsufficient funds! Amount to be withdrawn exceeds current balance.\")\n",
    "                else:\n",
    "                    print(\"Invalid amount! Please enter a positive number.\")\n",
    "            except:\n",
    "                print(\"Invalid input! Please enter a valid number.\")\n",
    "                \n",
    "        elif choice == 4: # Exit the system\n",
    "            print(\"\\nThank you for using our ATM services.\")\n",
    "            print(\"Please take your card. Have a nice day!\")\n",
    "            break\n",
    "\n",
    "        else: # To take into account other numbers outside 1-4 that might be accepted by the system (negative numbers and other integer values)\n",
    "            print(\"Invalid choice! Please select an option between 1-4.\")"
   ]
  },
  {
   "cell_type": "markdown",
   "id": "baaf47cf-c62f-4873-8122-2c3fe98b69c1",
   "metadata": {},
   "source": [
    "**2. Call** the function"
   ]
  },
  {
   "cell_type": "code",
   "execution_count": 2,
   "id": "b9f9701e-0916-4b24-8565-5c89d0eafce8",
   "metadata": {},
   "outputs": [
    {
     "name": "stdout",
     "output_type": "stream",
     "text": [
      "Welcome to the ATM system!\n",
      "Please insert your card...\n",
      "\n",
      "Card accepted!\n",
      "\n",
      "\n",
      "==============================================================ATM MENU==============================================================\n",
      "\n",
      "1 --> Check Balance\n",
      "2 --> Deposit Money\n",
      "3 --> Withdraw Money\n",
      "4 --> Exit\n"
     ]
    },
    {
     "name": "stdin",
     "output_type": "stream",
     "text": [
      "\n",
      "Enter your choice (1-4):  1\n"
     ]
    },
    {
     "name": "stdout",
     "output_type": "stream",
     "text": [
      "\n",
      "Your current balance: 1000.00 Naira\n",
      "\n",
      "==============================================================ATM MENU==============================================================\n",
      "\n",
      "1 --> Check Balance\n",
      "2 --> Deposit Money\n",
      "3 --> Withdraw Money\n",
      "4 --> Exit\n"
     ]
    },
    {
     "name": "stdin",
     "output_type": "stream",
     "text": [
      "\n",
      "Enter your choice (1-4):  2\n",
      "\n",
      "Enter amount to be deposited:  -90\n"
     ]
    },
    {
     "name": "stdout",
     "output_type": "stream",
     "text": [
      "Invalid amount! Please enter a positive number.\n",
      "\n",
      "==============================================================ATM MENU==============================================================\n",
      "\n",
      "1 --> Check Balance\n",
      "2 --> Deposit Money\n",
      "3 --> Withdraw Money\n",
      "4 --> Exit\n"
     ]
    },
    {
     "name": "stdin",
     "output_type": "stream",
     "text": [
      "\n",
      "Enter your choice (1-4):  2\n",
      "\n",
      "Enter amount to be deposited:  450.78\n"
     ]
    },
    {
     "name": "stdout",
     "output_type": "stream",
     "text": [
      "\n",
      "You have successfully deposited 450.78 Naira\n",
      "New Balance: 1450.78 Naira\n",
      "\n",
      "==============================================================ATM MENU==============================================================\n",
      "\n",
      "1 --> Check Balance\n",
      "2 --> Deposit Money\n",
      "3 --> Withdraw Money\n",
      "4 --> Exit\n"
     ]
    },
    {
     "name": "stdin",
     "output_type": "stream",
     "text": [
      "\n",
      "Enter your choice (1-4):  3\n",
      "\n",
      "Enter amount to be withdrawn:  4r5\n"
     ]
    },
    {
     "name": "stdout",
     "output_type": "stream",
     "text": [
      "Invalid input! Please enter a valid number.\n",
      "\n",
      "==============================================================ATM MENU==============================================================\n",
      "\n",
      "1 --> Check Balance\n",
      "2 --> Deposit Money\n",
      "3 --> Withdraw Money\n",
      "4 --> Exit\n"
     ]
    },
    {
     "name": "stdin",
     "output_type": "stream",
     "text": [
      "\n",
      "Enter your choice (1-4):  4500\n"
     ]
    },
    {
     "name": "stdout",
     "output_type": "stream",
     "text": [
      "Invalid choice! Please select an option between 1-4.\n",
      "\n",
      "==============================================================ATM MENU==============================================================\n",
      "\n",
      "1 --> Check Balance\n",
      "2 --> Deposit Money\n",
      "3 --> Withdraw Money\n",
      "4 --> Exit\n"
     ]
    },
    {
     "name": "stdin",
     "output_type": "stream",
     "text": [
      "\n",
      "Enter your choice (1-4):  3\n",
      "\n",
      "Enter amount to be withdrawn:  4500\n"
     ]
    },
    {
     "name": "stdout",
     "output_type": "stream",
     "text": [
      "\n",
      "Insufficient funds! Amount to be withdrawn exceeds current balance.\n",
      "\n",
      "==============================================================ATM MENU==============================================================\n",
      "\n",
      "1 --> Check Balance\n",
      "2 --> Deposit Money\n",
      "3 --> Withdraw Money\n",
      "4 --> Exit\n"
     ]
    },
    {
     "name": "stdin",
     "output_type": "stream",
     "text": [
      "\n",
      "Enter your choice (1-4):  1\n"
     ]
    },
    {
     "name": "stdout",
     "output_type": "stream",
     "text": [
      "\n",
      "Your current balance: 1450.78 Naira\n",
      "\n",
      "==============================================================ATM MENU==============================================================\n",
      "\n",
      "1 --> Check Balance\n",
      "2 --> Deposit Money\n",
      "3 --> Withdraw Money\n",
      "4 --> Exit\n"
     ]
    },
    {
     "name": "stdin",
     "output_type": "stream",
     "text": [
      "\n",
      "Enter your choice (1-4):  3\n",
      "\n",
      "Enter amount to be withdrawn:  780\n"
     ]
    },
    {
     "name": "stdout",
     "output_type": "stream",
     "text": [
      "\n",
      "You have successfully withdrawn 780.00 Naira\n",
      "New Balance: 670.78 Naira\n",
      "\n",
      "==============================================================ATM MENU==============================================================\n",
      "\n",
      "1 --> Check Balance\n",
      "2 --> Deposit Money\n",
      "3 --> Withdraw Money\n",
      "4 --> Exit\n"
     ]
    },
    {
     "name": "stdin",
     "output_type": "stream",
     "text": [
      "\n",
      "Enter your choice (1-4):  3\n",
      "\n",
      "Enter amount to be withdrawn:  780\n"
     ]
    },
    {
     "name": "stdout",
     "output_type": "stream",
     "text": [
      "\n",
      "Insufficient funds! Amount to be withdrawn exceeds current balance.\n",
      "\n",
      "==============================================================ATM MENU==============================================================\n",
      "\n",
      "1 --> Check Balance\n",
      "2 --> Deposit Money\n",
      "3 --> Withdraw Money\n",
      "4 --> Exit\n"
     ]
    },
    {
     "name": "stdin",
     "output_type": "stream",
     "text": [
      "\n",
      "Enter your choice (1-4):  3\n",
      "\n",
      "Enter amount to be withdrawn:  780\n"
     ]
    },
    {
     "name": "stdout",
     "output_type": "stream",
     "text": [
      "\n",
      "Insufficient funds! Amount to be withdrawn exceeds current balance.\n",
      "\n",
      "==============================================================ATM MENU==============================================================\n",
      "\n",
      "1 --> Check Balance\n",
      "2 --> Deposit Money\n",
      "3 --> Withdraw Money\n",
      "4 --> Exit\n"
     ]
    },
    {
     "name": "stdin",
     "output_type": "stream",
     "text": [
      "\n",
      "Enter your choice (1-4):  4\n"
     ]
    },
    {
     "name": "stdout",
     "output_type": "stream",
     "text": [
      "\n",
      "Thank you for using our ATM services.\n",
      "Please take your card. Have a nice day!\n"
     ]
    }
   ],
   "source": [
    "atm_machine()"
   ]
  },
  {
   "cell_type": "code",
   "execution_count": null,
   "id": "0acc8094-9fa0-420d-8e40-e56c1b102211",
   "metadata": {},
   "outputs": [],
   "source": []
  }
 ],
 "metadata": {
  "kernelspec": {
   "display_name": "Python 3 (ipykernel)",
   "language": "python",
   "name": "python3"
  },
  "language_info": {
   "codemirror_mode": {
    "name": "ipython",
    "version": 3
   },
   "file_extension": ".py",
   "mimetype": "text/x-python",
   "name": "python",
   "nbconvert_exporter": "python",
   "pygments_lexer": "ipython3",
   "version": "3.13.5"
  }
 },
 "nbformat": 4,
 "nbformat_minor": 5
}
